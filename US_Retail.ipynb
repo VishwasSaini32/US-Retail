{
  "nbformat": 4,
  "nbformat_minor": 0,
  "metadata": {
    "colab": {
      "name": "US Retail.ipynb",
      "provenance": [],
      "authorship_tag": "ABX9TyM9o0KlB51FxA5T8FSdW82A",
      "include_colab_link": true
    },
    "kernelspec": {
      "name": "python3",
      "display_name": "Python 3"
    }
  },
  "cells": [
    {
      "cell_type": "markdown",
      "metadata": {
        "id": "view-in-github",
        "colab_type": "text"
      },
      "source": [
        "<a href=\"https://colab.research.google.com/github/VishwasSaini32/US-Retail/blob/master/US_Retail.ipynb\" target=\"_parent\"><img src=\"https://colab.research.google.com/assets/colab-badge.svg\" alt=\"Open In Colab\"/></a>"
      ]
    },
    {
      "cell_type": "code",
      "metadata": {
        "id": "j2XIjZs10Jb1",
        "colab_type": "code",
        "colab": {}
      },
      "source": [
        "import pandas as pd\n",
        "import numpy as np"
      ],
      "execution_count": 0,
      "outputs": []
    },
    {
      "cell_type": "code",
      "metadata": {
        "id": "exdLrthg06JI",
        "colab_type": "code",
        "colab": {}
      },
      "source": [
        "df = pd.read_excel(\"mrtssales92-present.xls\",sheet_name = None, skiprows= 3, header = 1)"
      ],
      "execution_count": 0,
      "outputs": []
    },
    {
      "cell_type": "code",
      "metadata": {
        "id": "oDoYlpE_KY-S",
        "colab_type": "code",
        "colab": {
          "base_uri": "https://localhost:8080/",
          "height": 34
        },
        "outputId": "ff935f2c-2781-4e01-e71d-113e28363298"
      },
      "source": [
        "type(df)"
      ],
      "execution_count": 183,
      "outputs": [
        {
          "output_type": "execute_result",
          "data": {
            "text/plain": [
              "dict"
            ]
          },
          "metadata": {
            "tags": []
          },
          "execution_count": 183
        }
      ]
    },
    {
      "cell_type": "code",
      "metadata": {
        "id": "tKt5D8PU8FCU",
        "colab_type": "code",
        "outputId": "5a9a7b12-f462-4f82-9d74-9508f0673a6a",
        "colab": {
          "base_uri": "https://localhost:8080/",
          "height": 796
        }
      },
      "source": [
        "df['1992']"
      ],
      "execution_count": 184,
      "outputs": [
        {
          "output_type": "execute_result",
          "data": {
            "text/html": [
              "<div>\n",
              "<style scoped>\n",
              "    .dataframe tbody tr th:only-of-type {\n",
              "        vertical-align: middle;\n",
              "    }\n",
              "\n",
              "    .dataframe tbody tr th {\n",
              "        vertical-align: top;\n",
              "    }\n",
              "\n",
              "    .dataframe thead th {\n",
              "        text-align: right;\n",
              "    }\n",
              "</style>\n",
              "<table border=\"1\" class=\"dataframe\">\n",
              "  <thead>\n",
              "    <tr style=\"text-align: right;\">\n",
              "      <th></th>\n",
              "      <th>NAICS  Code</th>\n",
              "      <th>Kind of Business</th>\n",
              "      <th>Jan. 1992</th>\n",
              "      <th>Feb. 1992</th>\n",
              "      <th>Mar. 1992</th>\n",
              "      <th>Apr. 1992</th>\n",
              "      <th>May 1992</th>\n",
              "      <th>Jun. 1992</th>\n",
              "      <th>Jul. 1992</th>\n",
              "      <th>Aug. 1992</th>\n",
              "      <th>Sep. 1992</th>\n",
              "      <th>Oct. 1992</th>\n",
              "      <th>Nov. 1992</th>\n",
              "      <th>Dec. 1992</th>\n",
              "      <th>TOTAL</th>\n",
              "    </tr>\n",
              "  </thead>\n",
              "  <tbody>\n",
              "    <tr>\n",
              "      <th>0</th>\n",
              "      <td>NaN</td>\n",
              "      <td>NOT ADJUSTED</td>\n",
              "      <td>NaN</td>\n",
              "      <td>NaN</td>\n",
              "      <td>NaN</td>\n",
              "      <td>NaN</td>\n",
              "      <td>NaN</td>\n",
              "      <td>NaN</td>\n",
              "      <td>NaN</td>\n",
              "      <td>NaN</td>\n",
              "      <td>NaN</td>\n",
              "      <td>NaN</td>\n",
              "      <td>NaN</td>\n",
              "      <td>NaN</td>\n",
              "      <td>NaN</td>\n",
              "    </tr>\n",
              "    <tr>\n",
              "      <th>1</th>\n",
              "      <td>NaN</td>\n",
              "      <td>Retail and food services sales, total</td>\n",
              "      <td>146376</td>\n",
              "      <td>147079</td>\n",
              "      <td>159336</td>\n",
              "      <td>163669</td>\n",
              "      <td>170068</td>\n",
              "      <td>168663</td>\n",
              "      <td>169890</td>\n",
              "      <td>170364</td>\n",
              "      <td>164617</td>\n",
              "      <td>173655</td>\n",
              "      <td>171547</td>\n",
              "      <td>208838</td>\n",
              "      <td>2014102</td>\n",
              "    </tr>\n",
              "    <tr>\n",
              "      <th>2</th>\n",
              "      <td>NaN</td>\n",
              "      <td>Retail sales and food services excl motor vehi...</td>\n",
              "      <td>116565</td>\n",
              "      <td>115862</td>\n",
              "      <td>124200</td>\n",
              "      <td>127587</td>\n",
              "      <td>133608</td>\n",
              "      <td>130274</td>\n",
              "      <td>132076</td>\n",
              "      <td>134928</td>\n",
              "      <td>128734</td>\n",
              "      <td>136917</td>\n",
              "      <td>139187</td>\n",
              "      <td>175771</td>\n",
              "      <td>1595709</td>\n",
              "    </tr>\n",
              "    <tr>\n",
              "      <th>3</th>\n",
              "      <td>NaN</td>\n",
              "      <td>Retail sales and food services excl gasoline s...</td>\n",
              "      <td>134277</td>\n",
              "      <td>135499</td>\n",
              "      <td>147064</td>\n",
              "      <td>151226</td>\n",
              "      <td>156619</td>\n",
              "      <td>155236</td>\n",
              "      <td>156016</td>\n",
              "      <td>156539</td>\n",
              "      <td>151477</td>\n",
              "      <td>159992</td>\n",
              "      <td>158483</td>\n",
              "      <td>195350</td>\n",
              "      <td>1857778</td>\n",
              "    </tr>\n",
              "    <tr>\n",
              "      <th>4</th>\n",
              "      <td>NaN</td>\n",
              "      <td>Retail sales and food services excl motor vehi...</td>\n",
              "      <td>104466</td>\n",
              "      <td>104282</td>\n",
              "      <td>111928</td>\n",
              "      <td>115144</td>\n",
              "      <td>120159</td>\n",
              "      <td>116847</td>\n",
              "      <td>118202</td>\n",
              "      <td>121103</td>\n",
              "      <td>115594</td>\n",
              "      <td>123254</td>\n",
              "      <td>126123</td>\n",
              "      <td>162283</td>\n",
              "      <td>1439385</td>\n",
              "    </tr>\n",
              "    <tr>\n",
              "      <th>...</th>\n",
              "      <td>...</td>\n",
              "      <td>...</td>\n",
              "      <td>...</td>\n",
              "      <td>...</td>\n",
              "      <td>...</td>\n",
              "      <td>...</td>\n",
              "      <td>...</td>\n",
              "      <td>...</td>\n",
              "      <td>...</td>\n",
              "      <td>...</td>\n",
              "      <td>...</td>\n",
              "      <td>...</td>\n",
              "      <td>...</td>\n",
              "      <td>...</td>\n",
              "      <td>...</td>\n",
              "    </tr>\n",
              "    <tr>\n",
              "      <th>100</th>\n",
              "      <td>453</td>\n",
              "      <td>Miscellaneous stores retailers</td>\n",
              "      <td>4318</td>\n",
              "      <td>4308</td>\n",
              "      <td>4292</td>\n",
              "      <td>4391</td>\n",
              "      <td>4356</td>\n",
              "      <td>4357</td>\n",
              "      <td>4468</td>\n",
              "      <td>4494</td>\n",
              "      <td>4549</td>\n",
              "      <td>4809</td>\n",
              "      <td>5059</td>\n",
              "      <td>5059</td>\n",
              "      <td>NaN</td>\n",
              "    </tr>\n",
              "    <tr>\n",
              "      <th>101</th>\n",
              "      <td>454</td>\n",
              "      <td>Nonstore retailers</td>\n",
              "      <td>6515</td>\n",
              "      <td>6110</td>\n",
              "      <td>6018</td>\n",
              "      <td>6327</td>\n",
              "      <td>6550</td>\n",
              "      <td>6653</td>\n",
              "      <td>6891</td>\n",
              "      <td>6766</td>\n",
              "      <td>6714</td>\n",
              "      <td>6665</td>\n",
              "      <td>6610</td>\n",
              "      <td>6597</td>\n",
              "      <td>NaN</td>\n",
              "    </tr>\n",
              "    <tr>\n",
              "      <th>102</th>\n",
              "      <td>4541</td>\n",
              "      <td>Electronic shopping and mail order houses</td>\n",
              "      <td>2668</td>\n",
              "      <td>2632</td>\n",
              "      <td>2477</td>\n",
              "      <td>2757</td>\n",
              "      <td>2874</td>\n",
              "      <td>3065</td>\n",
              "      <td>3238</td>\n",
              "      <td>3137</td>\n",
              "      <td>3064</td>\n",
              "      <td>3062</td>\n",
              "      <td>3029</td>\n",
              "      <td>3032</td>\n",
              "      <td>NaN</td>\n",
              "    </tr>\n",
              "    <tr>\n",
              "      <th>103</th>\n",
              "      <td>45431</td>\n",
              "      <td>Fuel dealers</td>\n",
              "      <td>1282</td>\n",
              "      <td>1177</td>\n",
              "      <td>1327</td>\n",
              "      <td>1464</td>\n",
              "      <td>1491</td>\n",
              "      <td>1421</td>\n",
              "      <td>1392</td>\n",
              "      <td>1408</td>\n",
              "      <td>1438</td>\n",
              "      <td>1466</td>\n",
              "      <td>1459</td>\n",
              "      <td>1444</td>\n",
              "      <td>NaN</td>\n",
              "    </tr>\n",
              "    <tr>\n",
              "      <th>104</th>\n",
              "      <td>722</td>\n",
              "      <td>Food services and drinking places</td>\n",
              "      <td>17170</td>\n",
              "      <td>16990</td>\n",
              "      <td>16916</td>\n",
              "      <td>16677</td>\n",
              "      <td>16602</td>\n",
              "      <td>16277</td>\n",
              "      <td>16496</td>\n",
              "      <td>16733</td>\n",
              "      <td>16812</td>\n",
              "      <td>17104</td>\n",
              "      <td>17420</td>\n",
              "      <td>17491</td>\n",
              "      <td>NaN</td>\n",
              "    </tr>\n",
              "  </tbody>\n",
              "</table>\n",
              "<p>105 rows × 15 columns</p>\n",
              "</div>"
            ],
            "text/plain": [
              "    NAICS  Code  ...    TOTAL\n",
              "0           NaN  ...      NaN\n",
              "1           NaN  ...  2014102\n",
              "2           NaN  ...  1595709\n",
              "3           NaN  ...  1857778\n",
              "4           NaN  ...  1439385\n",
              "..          ...  ...      ...\n",
              "100         453  ...      NaN\n",
              "101         454  ...      NaN\n",
              "102        4541  ...      NaN\n",
              "103       45431  ...      NaN\n",
              "104         722  ...      NaN\n",
              "\n",
              "[105 rows x 15 columns]"
            ]
          },
          "metadata": {
            "tags": []
          },
          "execution_count": 184
        }
      ]
    },
    {
      "cell_type": "markdown",
      "metadata": {
        "id": "3gxhCrBHMyIh",
        "colab_type": "text"
      },
      "source": [
        "#Extracting Main Categories"
      ]
    },
    {
      "cell_type": "markdown",
      "metadata": {
        "id": "RJPvXX0_NYXS",
        "colab_type": "text"
      },
      "source": [
        "Since Data"
      ]
    },
    {
      "cell_type": "code",
      "metadata": {
        "id": "1ev0yLrPM4xY",
        "colab_type": "code",
        "colab": {}
      },
      "source": [
        ""
      ],
      "execution_count": 0,
      "outputs": []
    },
    {
      "cell_type": "code",
      "metadata": {
        "id": "atT9WQl_1Ntr",
        "colab_type": "code",
        "colab": {}
      },
      "source": [
        "for key in df:\n",
        "    df_cat[key] = df[key]\n",
        "    df_cat[key]['NAICS  Code'] = df_cat[key]['NAICS  Code'].astype('str')\n",
        "    df_cat[key]['NAICS Code Cat'] = df_cat[key]['NAICS  Code'].str.extract('^(\\d{3})$')"
      ],
      "execution_count": 0,
      "outputs": []
    },
    {
      "cell_type": "code",
      "metadata": {
        "id": "-m00lU0N2HB9",
        "colab_type": "code",
        "colab": {
          "base_uri": "https://localhost:8080/",
          "height": 419
        },
        "outputId": "fd6a9a22-a9f9-4dd3-f75a-4ce0f04d0142"
      },
      "source": [
        "df_cat['2020'][['NAICS  Code', 'NAICS Code Cat']]"
      ],
      "execution_count": 186,
      "outputs": [
        {
          "output_type": "execute_result",
          "data": {
            "text/html": [
              "<div>\n",
              "<style scoped>\n",
              "    .dataframe tbody tr th:only-of-type {\n",
              "        vertical-align: middle;\n",
              "    }\n",
              "\n",
              "    .dataframe tbody tr th {\n",
              "        vertical-align: top;\n",
              "    }\n",
              "\n",
              "    .dataframe thead th {\n",
              "        text-align: right;\n",
              "    }\n",
              "</style>\n",
              "<table border=\"1\" class=\"dataframe\">\n",
              "  <thead>\n",
              "    <tr style=\"text-align: right;\">\n",
              "      <th></th>\n",
              "      <th>NAICS  Code</th>\n",
              "      <th>NAICS Code Cat</th>\n",
              "    </tr>\n",
              "  </thead>\n",
              "  <tbody>\n",
              "    <tr>\n",
              "      <th>0</th>\n",
              "      <td>nan</td>\n",
              "      <td>NaN</td>\n",
              "    </tr>\n",
              "    <tr>\n",
              "      <th>1</th>\n",
              "      <td>nan</td>\n",
              "      <td>NaN</td>\n",
              "    </tr>\n",
              "    <tr>\n",
              "      <th>2</th>\n",
              "      <td>nan</td>\n",
              "      <td>NaN</td>\n",
              "    </tr>\n",
              "    <tr>\n",
              "      <th>3</th>\n",
              "      <td>nan</td>\n",
              "      <td>NaN</td>\n",
              "    </tr>\n",
              "    <tr>\n",
              "      <th>4</th>\n",
              "      <td>nan</td>\n",
              "      <td>NaN</td>\n",
              "    </tr>\n",
              "    <tr>\n",
              "      <th>...</th>\n",
              "      <td>...</td>\n",
              "      <td>...</td>\n",
              "    </tr>\n",
              "    <tr>\n",
              "      <th>101</th>\n",
              "      <td>454</td>\n",
              "      <td>454</td>\n",
              "    </tr>\n",
              "    <tr>\n",
              "      <th>102</th>\n",
              "      <td>4541</td>\n",
              "      <td>NaN</td>\n",
              "    </tr>\n",
              "    <tr>\n",
              "      <th>103</th>\n",
              "      <td>45431</td>\n",
              "      <td>NaN</td>\n",
              "    </tr>\n",
              "    <tr>\n",
              "      <th>104</th>\n",
              "      <td>722</td>\n",
              "      <td>722</td>\n",
              "    </tr>\n",
              "    <tr>\n",
              "      <th>105</th>\n",
              "      <td></td>\n",
              "      <td>NaN</td>\n",
              "    </tr>\n",
              "  </tbody>\n",
              "</table>\n",
              "<p>106 rows × 2 columns</p>\n",
              "</div>"
            ],
            "text/plain": [
              "    NAICS  Code NAICS Code Cat\n",
              "0           nan            NaN\n",
              "1           nan            NaN\n",
              "2           nan            NaN\n",
              "3           nan            NaN\n",
              "4           nan            NaN\n",
              "..          ...            ...\n",
              "101         454            454\n",
              "102        4541            NaN\n",
              "103       45431            NaN\n",
              "104         722            722\n",
              "105                        NaN\n",
              "\n",
              "[106 rows x 2 columns]"
            ]
          },
          "metadata": {
            "tags": []
          },
          "execution_count": 186
        }
      ]
    },
    {
      "cell_type": "code",
      "metadata": {
        "id": "HWD_WYfnMsEj",
        "colab_type": "code",
        "colab": {}
      },
      "source": [
        ""
      ],
      "execution_count": 0,
      "outputs": []
    }
  ]
}